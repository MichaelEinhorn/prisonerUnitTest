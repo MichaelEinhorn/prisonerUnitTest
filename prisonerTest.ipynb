{
 "cells": [
  {
   "cell_type": "code",
   "execution_count": null,
   "id": "0ab22a73-d805-4dea-a3e8-31b9f2782ba3",
   "metadata": {},
   "outputs": [],
   "source": [
    "import mingpt\n",
    "from mingpt.prisonerTrainer import PrisonerTrainer\n",
    "from mingpt.model import GPT\n",
    "from torchinfo import summary"
   ]
  },
  {
   "cell_type": "code",
   "execution_count": null,
   "id": "0d9a0251-aa8c-427e-a8d9-407424133a5a",
   "metadata": {},
   "outputs": [],
   "source": [
    "model_config = GPT.get_default_config()\n",
    "model_config.model_type = 'gpt-pico'\n",
    "model_config.vocab_size = 2\n",
    "model_config.block_size = 128\n",
    "model_config.alg_name = \"ppo\"\n",
    "model = GPT(model_config)\n",
    "summary(model)"
   ]
  },
  {
   "cell_type": "code",
   "execution_count": null,
   "id": "53bb52c6-cdba-471c-8e4e-ba4b8380318c",
   "metadata": {},
   "outputs": [],
   "source": [
    "train_config = PrisonerTrainer.get_default_config()\n",
    "train_config.learning_rate = 5e-4 # many possible options, see the file\n",
    "train_config.max_iters = 500\n",
    "train_config.gamma = 0.50\n",
    "train_config.alg_name = model_config.alg_name\n",
    "trainer = PrisonerTrainer(train_config, model)\n",
    "print(trainer.equilibriumDiscount(startCoop=True), trainer.equilibriumDiscount(startCoop=False))\n",
    "print(0.5 * trainer.equilibriumDiscount(startCoop=True) + 0.5 * trainer.equilibriumDiscount(startCoop=False))\n",
    "trainer.run()"
   ]
  },
  {
   "cell_type": "code",
   "execution_count": null,
   "id": "db31c88c-8b6b-439e-8320-6cfbdf2adb5e",
   "metadata": {},
   "outputs": [],
   "source": [
    "import json\n",
    "with open(\"rewStats.json\", 'r') as file:\n",
    "    iter_list, rew_dict, avg_rets, loss_list = json.load(file)\n",
    "print(iter_list, rew_dict, avg_rets)"
   ]
  },
  {
   "cell_type": "code",
   "execution_count": null,
   "id": "d1d2aed6-db33-4df8-a3bd-e592d436b629",
   "metadata": {},
   "outputs": [],
   "source": [
    "import matplotlib.pyplot as plt\n",
    "import numpy as np\n",
    "\n",
    "alg_name = train_config.alg_name\n",
    "if alg_name == \"reject\":\n",
    "    alg_name = \"rejection sampling\"\n",
    "\n",
    "plt.figure()\n",
    "title = f\"self play prisoner's dillema with {alg_name}\"\n",
    "plt.title(title)\n",
    "for k in rew_dict:\n",
    "    plt.scatter(iter_list, rew_dict[k], label=k)\n",
    "plt.legend(loc='center left', bbox_to_anchor=(1, 0.5), title=f\"g: {train_config.gamma}\\ng thresh after c: {trainer.equilibriumDiscount(startCoop=True)}\\ng thresh after d: {trainer.equilibriumDiscount(startCoop=False)}\")\n",
    "plt.savefig(alg_name + \".jpg\", bbox_inches='tight')\n",
    "plt.show()"
   ]
  },
  {
   "cell_type": "code",
   "execution_count": null,
   "id": "20f6b595-7e06-424f-bf52-759a23cb78bc",
   "metadata": {},
   "outputs": [],
   "source": []
  },
  {
   "cell_type": "code",
   "execution_count": null,
   "id": "62685cde-aec9-4650-9d1a-18ba6fcf0f33",
   "metadata": {},
   "outputs": [],
   "source": []
  }
 ],
 "metadata": {
  "kernelspec": {
   "display_name": "torch",
   "language": "python",
   "name": "torch"
  },
  "language_info": {
   "codemirror_mode": {
    "name": "ipython",
    "version": 3
   },
   "file_extension": ".py",
   "mimetype": "text/x-python",
   "name": "python",
   "nbconvert_exporter": "python",
   "pygments_lexer": "ipython3",
   "version": "3.10.4"
  }
 },
 "nbformat": 4,
 "nbformat_minor": 5
}
